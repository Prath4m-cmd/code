{
 "cells": [
  {
   "cell_type": "code",
   "execution_count": 1,
   "id": "8d6b0d1f",
   "metadata": {},
   "outputs": [],
   "source": [
    "import sqlite3"
   ]
  },
  {
   "cell_type": "code",
   "execution_count": 2,
   "id": "0a78a2b2",
   "metadata": {},
   "outputs": [
    {
     "data": {
      "text/plain": [
       "<sqlite3.Connection at 0x2424b2f5f40>"
      ]
     },
     "execution_count": 2,
     "metadata": {},
     "output_type": "execute_result"
    }
   ],
   "source": [
    "# Connect an SQLite database\n",
    "connection=sqlite3.connect('example.db')\n",
    "connection"
   ]
  },
  {
   "cell_type": "code",
   "execution_count": 3,
   "id": "cdffde4d",
   "metadata": {},
   "outputs": [],
   "source": [
    "cursor=connection.cursor()"
   ]
  },
  {
   "cell_type": "code",
   "execution_count": 4,
   "id": "ae3fda7c",
   "metadata": {},
   "outputs": [],
   "source": [
    "# Create a Table\n",
    "cursor.execute('''\n",
    "Create Table If Not Exists employees(\n",
    "            id Integer Primary Key,\n",
    "            name Text Not Null,\n",
    "            age Integer,\n",
    "            department Text\n",
    "            )\n",
    "''')\n",
    "\n",
    "#commit changes\n",
    "connection.commit()\n"
   ]
  },
  {
   "cell_type": "code",
   "execution_count": 5,
   "id": "9727dcd1",
   "metadata": {},
   "outputs": [
    {
     "data": {
      "text/plain": [
       "<sqlite3.Cursor at 0x2424b3ffbc0>"
      ]
     },
     "execution_count": 5,
     "metadata": {},
     "output_type": "execute_result"
    }
   ],
   "source": [
    "cursor.execute('''\n",
    "Select * from employees\n",
    "''')"
   ]
  },
  {
   "cell_type": "code",
   "execution_count": 6,
   "id": "1d70c77f",
   "metadata": {},
   "outputs": [],
   "source": [
    "# Insert the data in sqlite table\n",
    "cursor.execute('''\n",
    "INSERT INTO employees(name,age,department)\n",
    "VALUES('krish',32,'Data Scientist')\n",
    "''')\n",
    "\n",
    "cursor.execute('''\n",
    "INSERT INTO employees(name,age,department)\n",
    "VALUES('Bob',25,'Engineering')\n",
    "''')\n",
    "\n",
    "cursor.execute('''\n",
    "INSERT INTO employees(name,age,department)\n",
    "VALUES('Charlie',35,'Finance')\n",
    "''')\n",
    "\n",
    "connection.commit()"
   ]
  },
  {
   "cell_type": "code",
   "execution_count": 7,
   "id": "4ffb65ea",
   "metadata": {},
   "outputs": [
    {
     "name": "stdout",
     "output_type": "stream",
     "text": [
      "(1, 'krish', 32, 'Data Scientist')\n",
      "(2, 'Bob', 25, 'Engineering')\n",
      "(3, 'Charlie', 35, 'Finance')\n"
     ]
    }
   ],
   "source": [
    "# Query the data from the table\n",
    "cursor.execute('Select * from employees')\n",
    "rows=cursor.fetchall()\n",
    "\n",
    "# print the queried data\n",
    "for row in rows:\n",
    "    print(row) \n"
   ]
  },
  {
   "cell_type": "code",
   "execution_count": 8,
   "id": "8266fed9",
   "metadata": {},
   "outputs": [],
   "source": [
    "# Update the date in the table\n",
    "cursor.execute('''\n",
    "UPDATE employees\n",
    "Set age=34\n",
    "where name='krish'\n",
    "''')\n",
    "\n",
    "connection.commit()"
   ]
  },
  {
   "cell_type": "code",
   "execution_count": 9,
   "id": "c187c308",
   "metadata": {},
   "outputs": [
    {
     "name": "stdout",
     "output_type": "stream",
     "text": [
      "(1, 'krish', 34, 'Data Scientist')\n",
      "(2, 'Bob', 25, 'Engineering')\n",
      "(3, 'Charlie', 35, 'Finance')\n"
     ]
    }
   ],
   "source": [
    "# Query the data from the table\n",
    "cursor.execute('Select * from employees')\n",
    "rows=cursor.fetchall()\n",
    "\n",
    "# print the queried data\n",
    "for row in rows:\n",
    "    print(row) "
   ]
  },
  {
   "cell_type": "code",
   "execution_count": 12,
   "id": "fcb4b194",
   "metadata": {},
   "outputs": [],
   "source": [
    "# Delete the data from the table\n",
    "cursor.execute('''\n",
    "Delete from employees\n",
    "               where name='Bob'\n",
    "''')\n",
    "\n",
    "connection.commit()"
   ]
  },
  {
   "cell_type": "code",
   "execution_count": 13,
   "id": "4bb6a2af",
   "metadata": {},
   "outputs": [
    {
     "name": "stdout",
     "output_type": "stream",
     "text": [
      "(1, 'krish', 34, 'Data Scientist')\n",
      "(3, 'Charlie', 35, 'Finance')\n"
     ]
    }
   ],
   "source": [
    "# Query the data from the table\n",
    "cursor.execute('Select * from employees')\n",
    "rows=cursor.fetchall()\n",
    "\n",
    "# print the queried data\n",
    "for row in rows:\n",
    "    print(row) "
   ]
  },
  {
   "cell_type": "code",
   "execution_count": 15,
   "id": "26d5827b",
   "metadata": {},
   "outputs": [],
   "source": [
    "#Working with sales data \n",
    "# connect to an SQLite database\n",
    "connection=sqlite3.connect('sales_data.db')\n",
    "cursor=connection.cursor()\n",
    "\n",
    "# Create a tabel for sales data\n",
    "cursor.execute('''\n",
    "CREATE TABLE IF NOT EXISTS sales (\n",
    "               id INTEGER PRIMARY KEY,\n",
    "               date TEXT NOT NULL,\n",
    "               product TEXT NOT NULL,\n",
    "               sales INTEGER,\n",
    "               region TEXT\n",
    "\n",
    ")\n",
    "''')\n",
    "\n",
    "# Insert data into sales table\n",
    "sales_data = [\n",
    "    ('2023-01-01','product1',100,'North'),\n",
    "    ('2023-01-02','product2',200,'South'),\n",
    "    ('2023-01-03','product1',150,'East'),\n",
    "    ('2023-01-04','product3',250,'West'),\n",
    "    ('2023-01-05','product2',200,'North')\n",
    "]\n",
    "\n",
    "cursor.executemany('''\n",
    "Insert Into sales(date,product,sales,region)\n",
    "                   values(?,?,?,?)\n",
    "\n",
    "''',sales_data)\n",
    "\n",
    "connection.commit()"
   ]
  },
  {
   "cell_type": "code",
   "execution_count": 16,
   "id": "ecc76a57",
   "metadata": {},
   "outputs": [
    {
     "name": "stdout",
     "output_type": "stream",
     "text": [
      "(1, '2023-01-01', 'product1', 100, 'North')\n",
      "(2, '2023-01-02', 'product2', 200, 'South')\n",
      "(3, '2023-01-03', 'product1', 150, 'East')\n",
      "(4, '2023-01-04', 'product3', 250, 'West')\n",
      "(5, '2023-01-05', 'product2', 200, 'North')\n"
     ]
    }
   ],
   "source": [
    "# Query data from sales table\n",
    "cursor.execute('SELECT  * FROM sales')\n",
    "rows=cursor.fetchall()\n",
    "\n",
    "# Print quries from data\n",
    "for row in rows:\n",
    "    print(row)"
   ]
  },
  {
   "cell_type": "code",
   "execution_count": 17,
   "id": "4e97b617",
   "metadata": {},
   "outputs": [],
   "source": [
    "connection.close()"
   ]
  },
  {
   "cell_type": "code",
   "execution_count": null,
   "id": "6b0d0f2a",
   "metadata": {},
   "outputs": [],
   "source": []
  }
 ],
 "metadata": {
  "kernelspec": {
   "display_name": "Python 3",
   "language": "python",
   "name": "python3"
  },
  "language_info": {
   "codemirror_mode": {
    "name": "ipython",
    "version": 3
   },
   "file_extension": ".py",
   "mimetype": "text/x-python",
   "name": "python",
   "nbconvert_exporter": "python",
   "pygments_lexer": "ipython3",
   "version": "3.10.0"
  }
 },
 "nbformat": 4,
 "nbformat_minor": 5
}
