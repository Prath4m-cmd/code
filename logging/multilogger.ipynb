{
 "cells": [
  {
   "cell_type": "code",
   "execution_count": 2,
   "id": "9c2e7849",
   "metadata": {},
   "outputs": [],
   "source": [
    "import logging\n",
    "\n",
    "#create a logger for module 1\n",
    "logger1= logging.getLogger(\"module1\")\n",
    "logger1.setLevel(logging.DEBUG)\n",
    "\n",
    "# create a logger for module2\n",
    "logger2=logging.getLogger(\"module2\")\n",
    "logger2.setLevel(logging.WARNING)\n",
    "\n",
    "# configure logging setting\n",
    "logging.basicConfig(\n",
    "    level=logging.DEBUG,\n",
    "    format='%(asctime)s- %(name)s- %(levelname)s- %(message)s',\n",
    "    datefmt='%Y-%m-%d %H:%M:%S'\n",
    ")"
   ]
  },
  {
   "cell_type": "code",
   "execution_count": 4,
   "id": "e3291783",
   "metadata": {},
   "outputs": [
    {
     "name": "stderr",
     "output_type": "stream",
     "text": [
      "2025-09-12 19:30:08- module1- DEBUG- This is debug message for module1\n",
      "2025-09-12 19:30:08- module2- WARNING- This is Warning message for module2\n",
      "2025-09-12 19:30:08- module2- ERROR- This is an error message for module2\n"
     ]
    }
   ],
   "source": [
    "# log message with differt logger\n",
    "logger1.debug(\"This is debug message for module1\")\n",
    "logger2.warning(\"This is Warning message for module2\")\n",
    "logger2.error(\"This is an error message for module2\")"
   ]
  },
  {
   "cell_type": "code",
   "execution_count": null,
   "id": "4b4f8de8",
   "metadata": {},
   "outputs": [],
   "source": []
  },
  {
   "cell_type": "code",
   "execution_count": null,
   "id": "8db394c7",
   "metadata": {},
   "outputs": [],
   "source": []
  },
  {
   "cell_type": "code",
   "execution_count": null,
   "id": "1c624782",
   "metadata": {},
   "outputs": [],
   "source": []
  },
  {
   "cell_type": "code",
   "execution_count": null,
   "id": "698cf694",
   "metadata": {},
   "outputs": [],
   "source": []
  }
 ],
 "metadata": {
  "kernelspec": {
   "display_name": "Python 3",
   "language": "python",
   "name": "python3"
  },
  "language_info": {
   "codemirror_mode": {
    "name": "ipython",
    "version": 3
   },
   "file_extension": ".py",
   "mimetype": "text/x-python",
   "name": "python",
   "nbconvert_exporter": "python",
   "pygments_lexer": "ipython3",
   "version": "3.10.0"
  }
 },
 "nbformat": 4,
 "nbformat_minor": 5
}
