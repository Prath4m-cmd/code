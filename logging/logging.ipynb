{
 "cells": [
  {
   "cell_type": "code",
   "execution_count": 1,
   "id": "afad6ea7",
   "metadata": {},
   "outputs": [
    {
     "name": "stderr",
     "output_type": "stream",
     "text": [
      "DEBUG:root:This is a debug message\n",
      "INFO:root:This is info message\n",
      "WARNING:root:This is a warning message\n",
      "ERROR:root:This is a error message\n",
      "CRITICAL:root:This is a critical message\n"
     ]
    }
   ],
   "source": [
    "import logging\n",
    "\n",
    "# Configure the basic logging ssettings\n",
    "logging.basicConfig(level=logging.DEBUG)\n",
    "\n",
    "# Logging message\n",
    "logging.debug(\"This is a debug message\")\n",
    "logging.info(\"This is info message\")\n",
    "logging.warning(\"This is a warning message\")\n",
    "logging.error(\"This is a error message\")\n",
    "logging.critical(\"This is a critical message\")"
   ]
  },
  {
   "cell_type": "code",
   "execution_count": 1,
   "id": "c8ebfa3f",
   "metadata": {},
   "outputs": [],
   "source": [
    "import logging\n",
    "#configuring message \n",
    "logging.basicConfig(\n",
    "    filename='app.log',\n",
    "    filemode='w',\n",
    "    level=logging.DEBUG,\n",
    "    format='%(asctime)s-%(name)s-%(levelname)s-%(message)s',\n",
    "    datefmt='%Y-%m-%d %H:%M:%S'\n",
    ")\n",
    "\n",
    "# Logging message\n",
    "logging.debug(\"This is a debug message\")\n",
    "logging.info(\"This is info message\")\n",
    "logging.warning(\"This is a warning message\")\n",
    "logging.error(\"This is a error message\")\n",
    "logging.critical(\"This is a critical message\")"
   ]
  },
  {
   "cell_type": "code",
   "execution_count": null,
   "id": "2ef6bf59",
   "metadata": {},
   "outputs": [],
   "source": []
  },
  {
   "cell_type": "code",
   "execution_count": null,
   "id": "e53ff63d",
   "metadata": {},
   "outputs": [],
   "source": []
  },
  {
   "cell_type": "code",
   "execution_count": null,
   "id": "febca8d2",
   "metadata": {},
   "outputs": [],
   "source": []
  },
  {
   "cell_type": "code",
   "execution_count": null,
   "id": "f04909b3",
   "metadata": {},
   "outputs": [],
   "source": []
  },
  {
   "cell_type": "code",
   "execution_count": null,
   "id": "88f77cc1",
   "metadata": {},
   "outputs": [],
   "source": []
  },
  {
   "cell_type": "code",
   "execution_count": null,
   "id": "d5b00f9c",
   "metadata": {},
   "outputs": [],
   "source": []
  },
  {
   "cell_type": "code",
   "execution_count": null,
   "id": "66ccde1a",
   "metadata": {},
   "outputs": [],
   "source": []
  }
 ],
 "metadata": {
  "kernelspec": {
   "display_name": "Python 3",
   "language": "python",
   "name": "python3"
  },
  "language_info": {
   "codemirror_mode": {
    "name": "ipython",
    "version": 3
   },
   "file_extension": ".py",
   "mimetype": "text/x-python",
   "name": "python",
   "nbconvert_exporter": "python",
   "pygments_lexer": "ipython3",
   "version": "3.10.0"
  }
 },
 "nbformat": 4,
 "nbformat_minor": 5
}
