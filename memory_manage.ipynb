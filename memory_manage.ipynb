{
 "cells": [
  {
   "cell_type": "code",
   "execution_count": null,
   "id": "059dcdd5",
   "metadata": {},
   "outputs": [
    {
     "name": "stdout",
     "output_type": "stream",
     "text": [
      "2\n"
     ]
    }
   ],
   "source": [
    "import sys\n",
    "a=[]\n",
    "\n",
    "print(sys.getrefcount(a))\n",
    "## 2 (one from reference from 'a' variable and one from getrefcount function)"
   ]
  },
  {
   "cell_type": "code",
   "execution_count": 2,
   "id": "a74f12de",
   "metadata": {},
   "outputs": [
    {
     "name": "stdout",
     "output_type": "stream",
     "text": [
      "3\n"
     ]
    }
   ],
   "source": [
    "b=a\n",
    "print(sys.getrefcount(b))"
   ]
  },
  {
   "cell_type": "code",
   "execution_count": 3,
   "id": "4dd9c6df",
   "metadata": {},
   "outputs": [
    {
     "data": {
      "text/plain": [
       "<function gc.enable()>"
      ]
     },
     "execution_count": 3,
     "metadata": {},
     "output_type": "execute_result"
    }
   ],
   "source": [
    "## Garbage collector\n",
    "\n",
    "import gc\n",
    "gc.enable\n"
   ]
  },
  {
   "cell_type": "code",
   "execution_count": 4,
   "id": "646ac7cb",
   "metadata": {},
   "outputs": [],
   "source": [
    "gc.disable()"
   ]
  },
  {
   "cell_type": "code",
   "execution_count": 5,
   "id": "4a3bc4a2",
   "metadata": {},
   "outputs": [
    {
     "data": {
      "text/plain": [
       "124"
      ]
     },
     "execution_count": 5,
     "metadata": {},
     "output_type": "execute_result"
    }
   ],
   "source": [
    "gc.collect()"
   ]
  },
  {
   "cell_type": "code",
   "execution_count": 6,
   "id": "d997d409",
   "metadata": {},
   "outputs": [
    {
     "name": "stdout",
     "output_type": "stream",
     "text": [
      "[{'collections': 197, 'collected': 2392, 'uncollectable': 0}, {'collections': 17, 'collected': 359, 'uncollectable': 0}, {'collections': 2, 'collected': 152, 'uncollectable': 0}]\n"
     ]
    }
   ],
   "source": [
    "# get garbage collection stats\n",
    "\n",
    "print(gc.get_stats())"
   ]
  },
  {
   "cell_type": "code",
   "execution_count": 7,
   "id": "e1d65d73",
   "metadata": {},
   "outputs": [
    {
     "name": "stdout",
     "output_type": "stream",
     "text": [
      "[]\n"
     ]
    }
   ],
   "source": [
    "# get unreachable objects\n",
    "print(gc.garbage)"
   ]
  },
  {
   "cell_type": "code",
   "execution_count": null,
   "id": "3bdc1c5e",
   "metadata": {},
   "outputs": [
    {
     "name": "stdout",
     "output_type": "stream",
     "text": [
      "Object obj1 created\n",
      "Object obj1 deleted\n",
      "Object obj2 created\n",
      "Object obj2 deleted\n",
      "Object obj1 deleted\n",
      "Object obj2 deleted\n"
     ]
    },
    {
     "data": {
      "text/plain": [
       "1442"
      ]
     },
     "execution_count": 9,
     "metadata": {},
     "output_type": "execute_result"
    }
   ],
   "source": [
    "# handling garbage and circular reference\n",
    "import gc\n",
    "\n",
    "class myObject:\n",
    "    def __init__(self,name):\n",
    "        self.name=name\n",
    "        print(f\"Object {self.name} created\")\n",
    "    \n",
    "    def __del__(self):\n",
    "        print(f\"Object {self.name} deleted\")\n",
    "\n",
    "\n",
    "## create circular reference\n",
    "obj1=myObject(\"obj1\")\n",
    "obj2 = myObject(\"obj2\")\n",
    "obj1.ref=obj2\n",
    "obj2.ref=obj1\n",
    "\n",
    "del obj1\n",
    "del obj2\n",
    "\n",
    "## manually trigger the garbage collection\n",
    "gc.collect()"
   ]
  },
  {
   "cell_type": "code",
   "execution_count": 13,
   "id": "9c716d35",
   "metadata": {},
   "outputs": [
    {
     "name": "stdout",
     "output_type": "stream",
     "text": [
      "0\n",
      "1\n",
      "2\n",
      "3\n",
      "4\n",
      "5\n",
      "6\n",
      "7\n",
      "8\n",
      "9\n",
      "10\n",
      "11\n"
     ]
    }
   ],
   "source": [
    "## Generator memory efficiency\n",
    "# Generator allows you to produce items at a time, using efficiently by only keeping  one items \n",
    "\n",
    "def generate_numbers(n):\n",
    "    for i in range(n):\n",
    "        yield i\n",
    "\n",
    "# USE THE GENERATOR \n",
    "for num in generate_numbers(100000):\n",
    "    print(num)\n",
    "    if(num>10):\n",
    "        break"
   ]
  },
  {
   "cell_type": "code",
   "execution_count": 17,
   "id": "4306dbd3",
   "metadata": {},
   "outputs": [],
   "source": [
    "## Profiling Memory usage with tracemalloc\n",
    "import tracemalloc\n",
    "\n",
    "def create_list():\n",
    "    return [i for i in range(10000)]\n",
    "\n",
    "def main():\n",
    "    tracemalloc.start()\n",
    "\n",
    "    create_list()\n",
    "\n",
    "    snapshot = tracemalloc.take_snapshot()\n",
    "    top_stats = snapshot.statistics('lineno')\n",
    "\n",
    "    print(\"[Top 10]\")\n",
    "\n",
    "    for stat in top_stats[::]:\n",
    "        print(stat)"
   ]
  },
  {
   "cell_type": "code",
   "execution_count": 18,
   "id": "e6b7e8b5",
   "metadata": {},
   "outputs": [
    {
     "name": "stdout",
     "output_type": "stream",
     "text": [
      "[Top 10]\n",
      "d:\\My PC\\Krish naik\\code\\myenv\\lib\\json\\decoder.py:353: size=3545 B, count=42, average=84 B\n",
      "d:\\My PC\\Krish naik\\code\\myenv\\lib\\site-packages\\IPython\\core\\interactiveshell.py:1592: size=2208 B, count=1, average=2208 B\n",
      "d:\\My PC\\Krish naik\\code\\myenv\\lib\\codeop.py:150: size=2200 B, count=29, average=76 B\n",
      "d:\\My PC\\Krish naik\\code\\myenv\\lib\\site-packages\\traitlets\\traitlets.py:731: size=1684 B, count=24, average=70 B\n",
      "d:\\My PC\\Krish naik\\code\\myenv\\lib\\site-packages\\traitlets\\traitlets.py:1514: size=1512 B, count=9, average=168 B\n",
      "d:\\My PC\\Krish naik\\code\\myenv\\lib\\site-packages\\zmq\\sugar\\attrsettr.py:45: size=1430 B, count=26, average=55 B\n",
      "d:\\My PC\\Krish naik\\code\\myenv\\lib\\site-packages\\IPython\\core\\compilerop.py:174: size=1202 B, count=15, average=80 B\n",
      "d:\\My PC\\Krish naik\\code\\myenv\\lib\\site-packages\\traitlets\\traitlets.py:1543: size=1168 B, count=17, average=69 B\n",
      "d:\\My PC\\Krish naik\\code\\myenv\\lib\\enum.py:384: size=1136 B, count=4, average=284 B\n",
      "d:\\My PC\\Krish naik\\code\\myenv\\lib\\site-packages\\zmq\\sugar\\socket.py:802: size=1056 B, count=6, average=176 B\n",
      "d:\\My PC\\Krish naik\\code\\myenv\\lib\\site-packages\\ipykernel\\iostream.py:287: size=928 B, count=7, average=133 B\n",
      "d:\\My PC\\Krish naik\\code\\myenv\\lib\\signal.py:48: size=912 B, count=2, average=456 B\n",
      "d:\\My PC\\Krish naik\\code\\myenv\\lib\\site-packages\\jupyter_client\\session.py:1057: size=773 B, count=6, average=129 B\n",
      "d:\\My PC\\Krish naik\\code\\myenv\\lib\\site-packages\\jupyter_client\\jsonutil.py:111: size=696 B, count=12, average=58 B\n",
      "d:\\My PC\\Krish naik\\code\\myenv\\lib\\site-packages\\ipykernel\\kernelbase.py:508: size=648 B, count=2, average=324 B\n",
      "d:\\My PC\\Krish naik\\code\\myenv\\lib\\site-packages\\jupyter_client\\session.py:95: size=632 B, count=4, average=158 B\n",
      "d:\\My PC\\Krish naik\\code\\myenv\\lib\\inspect.py:2395: size=632 B, count=1, average=632 B\n",
      "C:\\Users\\prath\\AppData\\Local\\Temp\\ipykernel_22124\\3742331403.py:5: size=632 B, count=1, average=632 B\n",
      "d:\\My PC\\Krish naik\\code\\myenv\\lib\\site-packages\\ipykernel\\iostream.py:346: size=624 B, count=6, average=104 B\n",
      "d:\\My PC\\Krish naik\\code\\myenv\\lib\\signal.py:30: size=608 B, count=3, average=203 B\n",
      "d:\\My PC\\Krish naik\\code\\myenv\\lib\\site-packages\\jupyter_client\\session.py:1085: size=592 B, count=2, average=296 B\n",
      "d:\\My PC\\Krish naik\\code\\myenv\\lib\\site-packages\\jupyter_client\\jsonutil.py:75: size=592 B, count=2, average=296 B\n",
      "d:\\My PC\\Krish naik\\code\\myenv\\lib\\tracemalloc.py:533: size=568 B, count=1, average=568 B\n",
      "d:\\My PC\\Krish naik\\code\\myenv\\lib\\site-packages\\zmq\\sugar\\socket.py:749: size=552 B, count=2, average=276 B\n",
      "d:\\My PC\\Krish naik\\code\\myenv\\lib\\site-packages\\IPython\\core\\history.py:836: size=544 B, count=6, average=91 B\n",
      "d:\\My PC\\Krish naik\\code\\myenv\\lib\\site-packages\\IPython\\core\\compilerop.py:86: size=541 B, count=11, average=49 B\n",
      "d:\\My PC\\Krish naik\\code\\myenv\\lib\\threading.py:600: size=528 B, count=1, average=528 B\n",
      "d:\\My PC\\Krish naik\\code\\myenv\\lib\\selectors.py:324: size=528 B, count=1, average=528 B\n",
      "d:\\My PC\\Krish naik\\code\\myenv\\lib\\enum.py:969: size=496 B, count=1, average=496 B\n",
      "C:\\Users\\prath\\AppData\\Local\\Temp\\ipykernel_22124\\3742331403.py:10: size=472 B, count=1, average=472 B\n",
      "d:\\My PC\\Krish naik\\code\\myenv\\lib\\site-packages\\ipykernel\\iostream.py:609: size=464 B, count=1, average=464 B\n",
      "d:\\My PC\\Krish naik\\code\\myenv\\lib\\site-packages\\IPython\\core\\history.py:782: size=443 B, count=2, average=222 B\n",
      "d:\\My PC\\Krish naik\\code\\myenv\\lib\\site-packages\\jupyter_client\\session.py:1082: size=440 B, count=1, average=440 B\n",
      "d:\\My PC\\Krish naik\\code\\myenv\\lib\\site-packages\\ipykernel\\kernelbase.py:421: size=440 B, count=1, average=440 B\n",
      "d:\\My PC\\Krish naik\\code\\myenv\\lib\\site-packages\\ipykernel\\iostream.py:276: size=400 B, count=4, average=100 B\n",
      "d:\\My PC\\Krish naik\\code\\myenv\\lib\\enum.py:699: size=384 B, count=4, average=96 B\n",
      "d:\\My PC\\Krish naik\\code\\myenv\\lib\\site-packages\\ipykernel\\kernelbase.py:759: size=296 B, count=1, average=296 B\n",
      "d:\\My PC\\Krish naik\\code\\myenv\\lib\\asyncio\\events.py:80: size=288 B, count=4, average=72 B\n",
      "d:\\My PC\\Krish naik\\code\\myenv\\lib\\site-packages\\ipykernel\\zmqshell.py:577: size=272 B, count=3, average=91 B\n",
      "d:\\My PC\\Krish naik\\code\\myenv\\lib\\site-packages\\IPython\\core\\interactiveshell.py:3106: size=232 B, count=4, average=58 B\n",
      "d:\\My PC\\Krish naik\\code\\myenv\\lib\\site-packages\\ipykernel\\kernelbase.py:398: size=224 B, count=2, average=112 B\n",
      "d:\\My PC\\Krish naik\\code\\myenv\\lib\\site-packages\\ipykernel\\compiler.py:91: size=223 B, count=2, average=112 B\n",
      "d:\\My PC\\Krish naik\\code\\myenv\\lib\\asyncio\\base_events.py:765: size=192 B, count=2, average=96 B\n",
      "d:\\My PC\\Krish naik\\code\\myenv\\lib\\site-packages\\zmq\\sugar\\socket.py:799: size=184 B, count=2, average=92 B\n",
      "d:\\My PC\\Krish naik\\code\\myenv\\lib\\site-packages\\jupyter_client\\session.py:989: size=180 B, count=3, average=60 B\n",
      "d:\\My PC\\Krish naik\\code\\myenv\\lib\\inspect.py:156: size=168 B, count=1, average=168 B\n",
      "d:\\My PC\\Krish naik\\code\\myenv\\lib\\site-packages\\tornado\\queues.py:248: size=160 B, count=1, average=160 B\n",
      "d:\\My PC\\Krish naik\\code\\myenv\\lib\\asyncio\\base_events.py:424: size=160 B, count=1, average=160 B\n",
      "d:\\My PC\\Krish naik\\code\\myenv\\lib\\site-packages\\zmq\\sugar\\socket.py:748: size=152 B, count=3, average=51 B\n",
      "d:\\My PC\\Krish naik\\code\\myenv\\lib\\site-packages\\ipykernel\\kernelbase.py:764: size=152 B, count=2, average=76 B\n",
      "d:\\My PC\\Krish naik\\code\\myenv\\lib\\site-packages\\IPython\\core\\interactiveshell.py:259: size=144 B, count=3, average=48 B\n",
      "d:\\My PC\\Krish naik\\code\\myenv\\lib\\site-packages\\tornado\\platform\\asyncio.py:241: size=144 B, count=2, average=72 B\n",
      "d:\\My PC\\Krish naik\\code\\myenv\\lib\\site-packages\\ipykernel\\iostream.py:722: size=144 B, count=2, average=72 B\n",
      "d:\\My PC\\Krish naik\\code\\myenv\\lib\\site-packages\\ipykernel\\kernelbase.py:544: size=144 B, count=1, average=144 B\n",
      "d:\\My PC\\Krish naik\\code\\myenv\\lib\\site-packages\\IPython\\core\\interactiveshell.py:3495: size=144 B, count=1, average=144 B\n",
      "d:\\My PC\\Krish naik\\code\\myenv\\lib\\site-packages\\IPython\\core\\interactiveshell.py:3239: size=144 B, count=1, average=144 B\n",
      "C:\\Users\\prath\\AppData\\Local\\Temp\\ipykernel_22124\\3742331403.py:7: size=144 B, count=1, average=144 B\n",
      "C:\\Users\\prath\\AppData\\Local\\Temp\\ipykernel_22124\\3742331403.py:4: size=144 B, count=1, average=144 B\n",
      "d:\\My PC\\Krish naik\\code\\myenv\\lib\\site-packages\\ipykernel\\iostream.py:527: size=136 B, count=2, average=68 B\n",
      "d:\\My PC\\Krish naik\\code\\myenv\\lib\\site-packages\\IPython\\core\\interactiveshell.py:3377: size=112 B, count=2, average=56 B\n",
      "d:\\My PC\\Krish naik\\code\\myenv\\lib\\enum.py:701: size=112 B, count=2, average=56 B\n",
      "d:\\My PC\\Krish naik\\code\\myenv\\lib\\site-packages\\ipykernel\\kernelbase.py:519: size=112 B, count=1, average=112 B\n",
      "d:\\My PC\\Krish naik\\code\\myenv\\lib\\site-packages\\ipykernel\\ipkernel.py:368: size=112 B, count=1, average=112 B\n",
      "d:\\My PC\\Krish naik\\code\\myenv\\lib\\site-packages\\ipykernel\\iostream.py:121: size=112 B, count=1, average=112 B\n",
      "d:\\My PC\\Krish naik\\code\\myenv\\lib\\site-packages\\IPython\\core\\interactiveshell.py:3519: size=112 B, count=1, average=112 B\n",
      "d:\\My PC\\Krish naik\\code\\myenv\\lib\\site-packages\\IPython\\core\\interactiveshell.py:3336: size=112 B, count=1, average=112 B\n",
      "d:\\My PC\\Krish naik\\code\\myenv\\lib\\asyncio\\base_events.py:728: size=112 B, count=1, average=112 B\n",
      "d:\\My PC\\Krish naik\\code\\myenv\\lib\\site-packages\\IPython\\core\\history.py:805: size=106 B, count=2, average=53 B\n",
      "d:\\My PC\\Krish naik\\code\\myenv\\lib\\site-packages\\jupyter_client\\session.py:688: size=97 B, count=1, average=97 B\n",
      "d:\\My PC\\Krish naik\\code\\myenv\\lib\\site-packages\\IPython\\core\\interactiveshell.py:3511: size=96 B, count=3, average=32 B\n",
      "d:\\My PC\\Krish naik\\code\\myenv\\lib\\site-packages\\dateutil\\parser\\isoparser.py:146: size=96 B, count=2, average=48 B\n",
      "d:\\My PC\\Krish naik\\code\\myenv\\lib\\site-packages\\IPython\\core\\interactiveshell.py:3226: size=96 B, count=2, average=48 B\n",
      "d:\\My PC\\Krish naik\\code\\myenv\\lib\\site-packages\\IPython\\core\\interactiveshell.py:3225: size=96 B, count=2, average=48 B\n",
      "d:\\My PC\\Krish naik\\code\\myenv\\lib\\site-packages\\jupyter_client\\session.py:750: size=96 B, count=1, average=96 B\n",
      "d:\\My PC\\Krish naik\\code\\myenv\\lib\\site-packages\\ipykernel\\kernelbase.py:1175: size=90 B, count=1, average=90 B\n",
      "d:\\My PC\\Krish naik\\code\\myenv\\lib\\site-packages\\IPython\\core\\history.py:851: size=72 B, count=1, average=72 B\n",
      "d:\\My PC\\Krish naik\\code\\myenv\\lib\\site-packages\\IPython\\core\\history.py:834: size=72 B, count=1, average=72 B\n",
      "d:\\My PC\\Krish naik\\code\\myenv\\lib\\site-packages\\jupyter_client\\session.py:996: size=64 B, count=2, average=32 B\n",
      "d:\\My PC\\Krish naik\\code\\myenv\\lib\\asyncio\\base_events.py:1865: size=64 B, count=2, average=32 B\n",
      "d:\\My PC\\Krish naik\\code\\myenv\\lib\\site-packages\\zmq\\sugar\\socket.py:803: size=64 B, count=1, average=64 B\n",
      "d:\\My PC\\Krish naik\\code\\myenv\\lib\\site-packages\\zmq\\sugar\\socket.py:698: size=64 B, count=1, average=64 B\n",
      "d:\\My PC\\Krish naik\\code\\myenv\\lib\\site-packages\\ipykernel\\kernelbase.py:710: size=64 B, count=1, average=64 B\n",
      "d:\\My PC\\Krish naik\\code\\myenv\\lib\\site-packages\\ipykernel\\ipkernel.py:455: size=64 B, count=1, average=64 B\n",
      "d:\\My PC\\Krish naik\\code\\myenv\\lib\\site-packages\\ipykernel\\ipkernel.py:390: size=64 B, count=1, average=64 B\n",
      "d:\\My PC\\Krish naik\\code\\myenv\\lib\\site-packages\\ipykernel\\ipkernel.py:389: size=64 B, count=1, average=64 B\n",
      "d:\\My PC\\Krish naik\\code\\myenv\\lib\\site-packages\\ipykernel\\ipkernel.py:387: size=64 B, count=1, average=64 B\n",
      "d:\\My PC\\Krish naik\\code\\myenv\\lib\\site-packages\\ipykernel\\ipkernel.py:300: size=64 B, count=1, average=64 B\n",
      "d:\\My PC\\Krish naik\\code\\myenv\\lib\\site-packages\\ipykernel\\ipkernel.py:297: size=64 B, count=1, average=64 B\n",
      "d:\\My PC\\Krish naik\\code\\myenv\\lib\\site-packages\\decorator.py:235: size=64 B, count=1, average=64 B\n",
      "d:\\My PC\\Krish naik\\code\\myenv\\lib\\site-packages\\IPython\\core\\interactiveshell.py:3568: size=64 B, count=1, average=64 B\n",
      "d:\\My PC\\Krish naik\\code\\myenv\\lib\\site-packages\\IPython\\core\\interactiveshell.py:3305: size=64 B, count=1, average=64 B\n",
      "d:\\My PC\\Krish naik\\code\\myenv\\lib\\site-packages\\IPython\\core\\interactiveshell.py:3302: size=64 B, count=1, average=64 B\n",
      "d:\\My PC\\Krish naik\\code\\myenv\\lib\\site-packages\\ipykernel\\iostream.py:684: size=58 B, count=1, average=58 B\n",
      "d:\\My PC\\Krish naik\\code\\myenv\\lib\\site-packages\\jupyter_client\\session.py:1088: size=56 B, count=1, average=56 B\n",
      "d:\\My PC\\Krish naik\\code\\myenv\\lib\\site-packages\\IPython\\core\\prefilter.py:317: size=55 B, count=1, average=55 B\n",
      "d:\\My PC\\Krish naik\\code\\myenv\\lib\\site-packages\\jupyter_client\\session.py:200: size=48 B, count=1, average=48 B\n",
      "d:\\My PC\\Krish naik\\code\\myenv\\lib\\site-packages\\IPython\\core\\interactiveshell.py:3507: size=48 B, count=1, average=48 B\n",
      "d:\\My PC\\Krish naik\\code\\myenv\\lib\\site-packages\\IPython\\core\\history.py:835: size=48 B, count=1, average=48 B\n",
      "d:\\My PC\\Krish naik\\code\\myenv\\lib\\site-packages\\ipykernel\\iostream.py:168: size=32 B, count=1, average=32 B\n",
      "d:\\My PC\\Krish naik\\code\\myenv\\lib\\site-packages\\IPython\\core\\interactiveshell.py:3505: size=32 B, count=1, average=32 B\n",
      "d:\\My PC\\Krish naik\\code\\myenv\\lib\\site-packages\\IPython\\core\\history.py:793: size=32 B, count=1, average=32 B\n",
      "d:\\My PC\\Krish naik\\code\\myenv\\lib\\selectors.py:338: size=32 B, count=1, average=32 B\n",
      "d:\\My PC\\Krish naik\\code\\myenv\\lib\\asyncio\\base_events.py:731: size=32 B, count=1, average=32 B\n",
      "d:\\My PC\\Krish naik\\code\\myenv\\lib\\site-packages\\tornado\\queues.py:318: size=28 B, count=1, average=28 B\n",
      "d:\\My PC\\Krish naik\\code\\myenv\\lib\\site-packages\\jupyter_client\\session.py:603: size=28 B, count=1, average=28 B\n",
      "d:\\My PC\\Krish naik\\code\\myenv\\lib\\site-packages\\ipykernel\\kernelbase.py:534: size=28 B, count=1, average=28 B\n",
      "d:\\My PC\\Krish naik\\code\\myenv\\lib\\site-packages\\ipykernel\\iostream.py:637: size=28 B, count=1, average=28 B\n",
      "d:\\My PC\\Krish naik\\code\\myenv\\lib\\site-packages\\IPython\\core\\compilerop.py:192: size=28 B, count=1, average=28 B\n",
      "d:\\My PC\\Krish naik\\code\\myenv\\lib\\site-packages\\IPython\\core\\compilerop.py:172: size=28 B, count=1, average=28 B\n",
      "d:\\My PC\\Krish naik\\code\\myenv\\lib\\queue.py:151: size=28 B, count=1, average=28 B\n",
      "d:\\My PC\\Krish naik\\code\\myenv\\lib\\site-packages\\IPython\\core\\interactiveshell.py:3487: size=8 B, count=1, average=8 B\n"
     ]
    }
   ],
   "source": [
    "main()"
   ]
  },
  {
   "cell_type": "code",
   "execution_count": null,
   "id": "0fc83c1e",
   "metadata": {},
   "outputs": [],
   "source": []
  }
 ],
 "metadata": {
  "kernelspec": {
   "display_name": "Python 3",
   "language": "python",
   "name": "python3"
  },
  "language_info": {
   "codemirror_mode": {
    "name": "ipython",
    "version": 3
   },
   "file_extension": ".py",
   "mimetype": "text/x-python",
   "name": "python",
   "nbconvert_exporter": "python",
   "pygments_lexer": "ipython3",
   "version": "3.10.0"
  }
 },
 "nbformat": 4,
 "nbformat_minor": 5
}
